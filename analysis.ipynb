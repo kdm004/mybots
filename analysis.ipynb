{
 "cells": [
  {
   "cell_type": "code",
   "execution_count": 132,
   "id": "0e9675b9",
   "metadata": {},
   "outputs": [],
   "source": [
    "\n",
    "import numpy as np\n",
    "\n",
    "import scipy.stats as stats\n",
    "import constants as c\n",
    "\n"
   ]
  },
  {
   "cell_type": "markdown",
   "id": "5237ba3a",
   "metadata": {},
   "source": [
    "# Define .txt file names"
   ]
  },
  {
   "cell_type": "code",
   "execution_count": 133,
   "id": "079b2211",
   "metadata": {},
   "outputs": [],
   "source": [
    "\n",
    "case1_evolved_familiar = '10x75_tactile_2/case1_10x75/familiarFits_exploded.txt'\n",
    "case2_evolved_familiar = '10x75_tactile_2/case2_10x75/familiarFits.txt'\n",
    "case3_evolved_familiar = '10x75_tactile_2/case3_10x75/familiarFits.txt'\n",
    "\n",
    "case1_evolved_foreign = '10x75_tactile_2/case1_10x75/foreignFits_exploded.txt'\n",
    "case2_evolved_foreign = '10x75_tactile_2/case2_10x75/foreignFits.txt'\n",
    "case3_evolved_foreign = '10x75_tactile_2/case3_10x75/foreignFits.txt'\n",
    "\n",
    "#-------\n",
    "\n",
    "case1_random_familiar = '10x75_tactile_2/case1_1x0/familiarFits_exploded.txt'\n",
    "case2_random_familiar = '10x75_tactile_2/case2_1x0/familiarFits.txt'\n",
    "case3_random_familiar = '10x75_tactile_2/case3_1x0/familiarFits.txt'\n",
    "\n",
    "case1_random_foreign = '10x75_tactile_2/case1_1x0/foreignFits_exploded.txt'\n",
    "case2_random_foreign = '10x75_tactile_2/case2_1x0/foreignFits.txt'\n",
    "case3_random_foreign = '10x75_tactile_2/case3_1x0/foreignFits.txt'\n"
   ]
  },
  {
   "cell_type": "markdown",
   "id": "38e4633f",
   "metadata": {},
   "source": [
    "# Get list of swarm fitnesses for analysis"
   ]
  },
  {
   "cell_type": "code",
   "execution_count": 134,
   "id": "a8cff9cd",
   "metadata": {},
   "outputs": [],
   "source": [
    "import numpy as np\n",
    "from itertools import islice\n",
    "\n",
    "def Get_Swarm_Fits(fitnessFile, botsPerSwarm, numLinesToRead=None):\n",
    "    '''\n",
    "    Parameters:\n",
    "        - fitnessFile: txt file where each line is a number\n",
    "        - botsPerSwarm: integer number of bots in each swarm\n",
    "        - numLinesToRead: optional parameter specifying the number of lines to read from the file\n",
    "\n",
    "    Returns:\n",
    "        - None\n",
    "    '''\n",
    "\n",
    "    # Read nums from the file\n",
    "    with open(fitnessFile, 'r') as file:\n",
    "        lines_to_read = file if numLinesToRead is None else islice(file, numLinesToRead)\n",
    "        numbers = [float(line.strip()) for line in lines_to_read]\n",
    "\n",
    "    # check if the length of the list is divisible by botsPerSwarm\n",
    "    if len(numbers) % botsPerSwarm != 0:\n",
    "        raise ValueError(\"Length of the list is not divisible by botsPerSwarm\")\n",
    "\n",
    "    # compute avg of every <botsPerSwarm> lines\n",
    "    bestOfEachSwarm = [np.min(numbers[i:i+botsPerSwarm]) for i in range(0, len(numbers), botsPerSwarm)]\n",
    "\n",
    "    return bestOfEachSwarm\n",
    "\n",
    "\n",
    "\n",
    "    \n"
   ]
  },
  {
   "cell_type": "code",
   "execution_count": 135,
   "id": "ab137dd0",
   "metadata": {},
   "outputs": [],
   "source": [
    "# Use function on each .txt file to get a list of swarm fitnesses for each file\n",
    "\n",
    "case1_evolved_familiar = Get_Swarm_Fits(case1_evolved_familiar, c.botsPerSwarm, 300)\n",
    "case2_evolved_familiar = Get_Swarm_Fits(case2_evolved_familiar, c.botsPerSwarm, 300)\n",
    "case3_evolved_familiar = Get_Swarm_Fits(case3_evolved_familiar, c.botsPerSwarm, 300)\n",
    "\n",
    "case1_evolved_foreign = Get_Swarm_Fits(case1_evolved_foreign, c.botsPerSwarm, 300)\n",
    "case2_evolved_foreign = Get_Swarm_Fits(case2_evolved_foreign, c.botsPerSwarm, 300)\n",
    "case3_evolved_foreign = Get_Swarm_Fits(case3_evolved_foreign, c.botsPerSwarm, 300)\n",
    "\n",
    "#-------\n",
    "\n",
    "case1_random_familiar = Get_Swarm_Fits(case1_random_familiar, c.botsPerSwarm, 300)\n",
    "case2_random_familiar = Get_Swarm_Fits(case2_random_familiar, c.botsPerSwarm, 300)\n",
    "case3_random_familiar = Get_Swarm_Fits(case3_random_familiar, c.botsPerSwarm, 300)\n",
    "\n",
    "case1_random_foreign = Get_Swarm_Fits(case1_random_foreign, c.botsPerSwarm, 300)\n",
    "case2_random_foreign = Get_Swarm_Fits(case2_random_foreign, c.botsPerSwarm, 300)\n",
    "case3_random_foreign = Get_Swarm_Fits(case3_random_foreign, c.botsPerSwarm, 300)\n"
   ]
  },
  {
   "cell_type": "markdown",
   "id": "5c67c5b7",
   "metadata": {},
   "source": [
    "# Perform Shapiro-Wilks test to determine if data is normally distributed"
   ]
  },
  {
   "cell_type": "code",
   "execution_count": 138,
   "id": "3e1960df",
   "metadata": {},
   "outputs": [],
   "source": [
    "from scipy.stats import shapiro\n",
    "\n",
    "def Check_Normal_Distribution(data):\n",
    "    # Perform Shapiro-Wilk test\n",
    "    stat, p_value = shapiro(data)\n",
    "    \n",
    "    # Check the p-value\n",
    "    alpha = 0.05                        # significance level\n",
    "    if p_value > alpha:\n",
    "        print(\"The data is normally distributed\")\n",
    "    else:\n",
    "        print(\"The data is not normally distributed\")\n"
   ]
  },
  {
   "cell_type": "code",
   "execution_count": 139,
   "id": "986a2d85",
   "metadata": {},
   "outputs": [
    {
     "name": "stdout",
     "output_type": "stream",
     "text": [
      "The data is normally distributed (fail to reject the null hypothesis)\n",
      "The data is normally distributed (fail to reject the null hypothesis)\n",
      "The data is normally distributed (fail to reject the null hypothesis)\n",
      "The data is normally distributed (fail to reject the null hypothesis)\n",
      "The data is normally distributed (fail to reject the null hypothesis)\n",
      "The data is normally distributed (fail to reject the null hypothesis)\n"
     ]
    }
   ],
   "source": [
    "## Use function on each \"average swarm\" list\n",
    "\n",
    "\n",
    "## Check if case1 swarm fitnesses are normally distributed\n",
    "Check_Normal_Distribution(case1_evolved_foreign)\n",
    "Check_Normal_Distribution(case1_evolved_familiar)\n",
    "\n",
    "\n",
    "## Check if case2 swarm fitnesses are normally distributed\n",
    "Check_Normal_Distribution(case2_evolved_foreign)\n",
    "Check_Normal_Distribution(case2_evolved_familiar)\n",
    "\n",
    "\n",
    "## Check if case3 swarm fitnesses are normally distributed\n",
    "Check_Normal_Distribution(case3_evolved_foreign)\n",
    "Check_Normal_Distribution(case3_evolved_familiar)\n",
    "\n",
    "\n"
   ]
  },
  {
   "cell_type": "markdown",
   "id": "b24c39fd",
   "metadata": {},
   "source": [
    "# Perform Mann Whitney U Test (We perform this instead of t-test because data is not all normally distributed)"
   ]
  },
  {
   "cell_type": "code",
   "execution_count": 140,
   "id": "b2cdb01d",
   "metadata": {},
   "outputs": [],
   "source": [
    "from scipy.stats import mannwhitneyu\n",
    "\n",
    "def mann_whitney_u_test(list1, list2, alpha=0.05):\n",
    "    \"\"\"\n",
    "    Perform Mann-Whitney U test to determine if there is a significant difference between two lists.\n",
    "\n",
    "    Parameters:\n",
    "        - list1: First list of values\n",
    "        - list2: Second list of values\n",
    "        - alpha: Significance level for the test (default is 0.05)\n",
    "\n",
    "    Returns:\n",
    "        - None\n",
    "    \"\"\"\n",
    "\n",
    "    # Perform Mann-Whitney U test\n",
    "    statistic, p_value = mannwhitneyu(list1, list2)\n",
    "\n",
    "    # Check if the result is significant\n",
    "    is_significant = p_value < alpha\n",
    "\n",
    "    # Print information\n",
    "    print(f\"t statistic: {statistic:.5f}, p-value: {p_value},  alpha: {alpha}, {'significant' if is_significant else 'not significant'}\")\n",
    "\n"
   ]
  },
  {
   "cell_type": "markdown",
   "id": "5fd67608",
   "metadata": {},
   "source": [
    "# Perfom MW U Test on (all evolved foreign data)\n",
    "To determine which swarm does better when evolved and deployed to a cluttered environment"
   ]
  },
  {
   "cell_type": "code",
   "execution_count": 141,
   "id": "d486e84a",
   "metadata": {},
   "outputs": [
    {
     "name": "stdout",
     "output_type": "stream",
     "text": [
      "----case1 vs case3----\n",
      "t statistic: 864.00000, p-value: 9.75550113457629e-10,  alpha: 0.025, significant\n",
      "----case2 vs case3----\n",
      "t statistic: 610.00000, p-value: 0.0183679594713855,  alpha: 0.025, significant\n"
     ]
    }
   ],
   "source": [
    "# print('----case1 vs case2----')\n",
    "# mann_whitney_u_test(case1_evolved_foreign, case2_evolved_foreign, 0.05/3)              Josh said we don't need this. We just care about how case3 does relative to others\n",
    "\n",
    "\n",
    "print('----case1 vs case3----')\n",
    "mann_whitney_u_test(case1_evolved_foreign, case3_evolved_foreign, 0.05/2)\n",
    "\n",
    "\n",
    "print('----case2 vs case3----')\n",
    "mann_whitney_u_test(case2_evolved_foreign, case3_evolved_foreign, 0.05/2)\n",
    "\n",
    "\n",
    "\n"
   ]
  },
  {
   "cell_type": "markdown",
   "id": "24129f30",
   "metadata": {},
   "source": [
    "# Perform MW U Test on (all evolved familiar data)\n",
    "To determine which swarm does better when evolved and deployed to an empty environment"
   ]
  },
  {
   "cell_type": "code",
   "execution_count": 142,
   "id": "83c5af42",
   "metadata": {},
   "outputs": [
    {
     "name": "stdout",
     "output_type": "stream",
     "text": [
      "----case1 vs case3----\n",
      "t statistic: 874.00000, p-value: 3.8201597819993253e-10,  alpha: 0.025, significant\n",
      "----case2 vs case3----\n",
      "t statistic: 608.00000, p-value: 0.01988307641391072,  alpha: 0.025, significant\n"
     ]
    }
   ],
   "source": [
    "# print('----case1 vs case2----')\n",
    "# mann_whitney_u_test(case1_evolved_familiar, case2_evolved_familiar, 0.05/3)\n",
    "\n",
    "\n",
    "print('----case1 vs case3----')\n",
    "mann_whitney_u_test(case1_evolved_familiar, case3_evolved_familiar, 0.05/2)\n",
    "\n",
    "\n",
    "print('----case2 vs case3----')\n",
    "mann_whitney_u_test(case2_evolved_familiar, case3_evolved_familiar, 0.05/2)\n",
    "\n"
   ]
  },
  {
   "cell_type": "markdown",
   "id": "e063fbe7",
   "metadata": {},
   "source": [
    "# Perfom MW U Test (evolved_foreign vs random_foreign)\n",
    "To show that bots were evolved enough that they do better than a random bot in the foreign environment"
   ]
  },
  {
   "cell_type": "code",
   "execution_count": 143,
   "id": "81bf9539",
   "metadata": {},
   "outputs": [
    {
     "name": "stdout",
     "output_type": "stream",
     "text": [
      "t statistic: 105.00000, p-value: 3.520057626068007e-07,  alpha: 0.05, significant\n",
      "t statistic: 12.00000, p-value: 9.918628618948002e-11,  alpha: 0.05, significant\n",
      "t statistic: 12.00000, p-value: 9.918628618948002e-11,  alpha: 0.05, significant\n"
     ]
    }
   ],
   "source": [
    "mann_whitney_u_test(case1_evolved_foreign, case1_random_foreign, 0.05)        # What should significance level be? 0.5?\n",
    "mann_whitney_u_test(case2_evolved_foreign, case2_random_foreign, 0.05)\n",
    "mann_whitney_u_test(case3_evolved_foreign, case3_random_foreign, 0.05)\n",
    "\n"
   ]
  },
  {
   "cell_type": "markdown",
   "id": "576fcc37",
   "metadata": {},
   "source": [
    "# Perform MW U Test (evolved_foreign vs evolved_familiar)\n",
    "To show that foreign environment is hard enough to pose a significant challenge relative to the familiar environment"
   ]
  },
  {
   "cell_type": "code",
   "execution_count": 144,
   "id": "314b620b",
   "metadata": {},
   "outputs": [
    {
     "name": "stdout",
     "output_type": "stream",
     "text": [
      "t statistic: 806.00000, p-value: 1.473317499078265e-07,  alpha: 0.05, significant\n",
      "t statistic: 858.00000, p-value: 1.6947244610469585e-09,  alpha: 0.05, significant\n",
      "t statistic: 836.00000, p-value: 1.2023264598302062e-08,  alpha: 0.05, significant\n"
     ]
    }
   ],
   "source": [
    "mann_whitney_u_test(case1_evolved_foreign, case1_evolved_familiar, 0.05)\n",
    "mann_whitney_u_test(case2_evolved_foreign, case2_evolved_familiar, 0.05)\n",
    "mann_whitney_u_test(case3_evolved_foreign, case3_evolved_familiar, 0.05)\n",
    "\n"
   ]
  },
  {
   "cell_type": "markdown",
   "id": "a9308a58",
   "metadata": {},
   "source": [
    "# Generate box plots"
   ]
  },
  {
   "cell_type": "code",
   "execution_count": 155,
   "id": "ea90f0fc",
   "metadata": {},
   "outputs": [],
   "source": [
    "import matplotlib.pyplot as plt\n",
    "\n",
    "def side_by_side_box_plots(*lists, labels=None):\n",
    "    \"\"\"\n",
    "    Generate side-by-side box plots\n",
    "\n",
    "    Parameters:\n",
    "    - *lists: variable number of lists to plot.\n",
    "    - labels: pptional list of labels for each box plot.\n",
    "\n",
    "    Returns:\n",
    "    - None \n",
    "    \"\"\"\n",
    "    # Check if labels are provided, otherwise use default labels\n",
    "    if labels is None:\n",
    "        labels = [f'Case {i+1}' for i in range(len(lists))]\n",
    "\n",
    "    # Create side-by-side box plots\n",
    "    plt.boxplot(lists, labels=labels)\n",
    "\n",
    "    # Add labels and title\n",
    "    plt.ylim(-12, 4)\n",
    "    plt.xlabel('')\n",
    "    plt.ylabel('Swarm Fitness')\n",
    "    plt.title('Side-by-Side Box Plots')\n",
    "\n",
    "    # Show the plot\n",
    "    plt.show()\n"
   ]
  },
  {
   "cell_type": "markdown",
   "id": "f900a74f",
   "metadata": {},
   "source": [
    "# Generate box plot (all evolved foreign data)"
   ]
  },
  {
   "cell_type": "code",
   "execution_count": 156,
   "id": "b7a49d0c",
   "metadata": {},
   "outputs": [
    {
     "data": {
      "image/png": "[encoded data removed]",
      "text/plain": [
       "<Figure size 640x480 with 1 Axes>"
      ]
     },
     "metadata": {},
     "output_type": "display_data"
    }
   ],
   "source": [
    "# Box plot for case1_evolved_foregin vs case2_evolved_foreign vs case3_evolved_foreign\n",
    "side_by_side_box_plots(case1_evolved_foreign,case2_evolved_foreign ,case3_evolved_foreign)"
   ]
  },
  {
   "cell_type": "markdown",
   "id": "5932214a",
   "metadata": {},
   "source": [
    "# Generate box plot (all evolved familiar data)\n",
    "To determine which swarm does best when evolved and deployed to an empty environment"
   ]
  },
  {
   "cell_type": "code",
   "execution_count": 157,
   "id": "2d9bd3fa",
   "metadata": {},
   "outputs": [
    {
     "data": {
      "image/png": "[encoded data removed]",
      "text/plain": [
       "<Figure size 640x480 with 1 Axes>"
      ]
     },
     "metadata": {},
     "output_type": "display_data"
    }
   ],
   "source": [
    "side_by_side_box_plots(case1_evolved_familiar,case2_evolved_familiar ,case3_evolved_familiar)"
   ]
  },
  {
   "cell_type": "markdown",
   "id": "49dfdf63",
   "metadata": {},
   "source": [
    "# Generate box plot (evolved_foreign vs random_foreign)"
   ]
  },
  {
   "cell_type": "code",
   "execution_count": 73,
   "id": "7c458a22",
   "metadata": {},
   "outputs": [],
   "source": [
    "# Box plot for case1_evolved_foreign vs case1_random_foreign\n",
    "# Box plot for case2_evolved_foreign vs case2_random_foreign\n",
    "# Box plot for case3_evolved_foreign vs case3_random_foreign\n",
    "\n",
    "\n"
   ]
  },
  {
   "cell_type": "markdown",
   "id": "9d3f25ec",
   "metadata": {},
   "source": [
    "# Generate box plot (evolved_foreign vs evolved_familiar)"
   ]
  },
  {
   "cell_type": "code",
   "execution_count": 34,
   "id": "57fb28b3",
   "metadata": {},
   "outputs": [],
   "source": [
    "# box plot case1_evolved_foreign vs case1_evolved_familiar\n",
    "# box plot case2_evolved_foreign vs case2_evolved_familiar\n",
    "# box plot case3_evolved_foreign vs case3_evolved_familiar\n",
    "\n"
   ]
  },
  {
   "cell_type": "code",
   "execution_count": null,
   "id": "914ddcd4",
   "metadata": {},
   "outputs": [],
   "source": []
  }
 ],
 "metadata": {
  "kernelspec": {
   "display_name": "base",
   "language": "python",
   "name": "python3"
  },
  "language_info": {
   "codemirror_mode": {
    "name": "ipython",
    "version": 3
   },
   "file_extension": ".py",
   "mimetype": "text/x-python",
   "name": "python",
   "nbconvert_exporter": "python",
   "pygments_lexer": "ipython3",
   "version": "3.10.2"
  }
 },
 "nbformat": 4,
 "nbformat_minor": 5
}
